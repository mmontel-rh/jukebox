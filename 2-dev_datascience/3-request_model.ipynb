{
 "cells": [
  {
   "cell_type": "markdown",
   "id": "2c004acc-13cd-4917-8480-592c7c2d623b",
   "metadata": {},
   "source": [
    "## 🥁 Setup\n",
    "\n",
    "Change the following variable settings to match your deployed model's *Inference endpoint* and *deployed model name* (it could either be `jukebox` or `jukebox-001`). For example: \n",
    "\n",
    "```\n",
    "deployed_model_name = \"jukebox\"\n",
    "infer_endpoint = \"https://jukebox-yyyyyy.apps.cluster-p9k5m.p9k5m.sandboxxxx.opentlc.com\"\n",
    "```"
   ]
  },
  {
   "cell_type": "code",
   "execution_count": null,
   "id": "4fe39385",
   "metadata": {
    "tags": []
   },
   "outputs": [],
   "source": [
    "import pandas as pd\n",
    "import matplotlib.pyplot as plt\n",
    "import pickle\n",
    "import numpy as np\n",
    "import requests"
   ]
  },
  {
   "cell_type": "code",
   "execution_count": null,
   "id": "0de65d02-84a6-4cff-882e-551cdd42b486",
   "metadata": {
    "tags": []
   },
   "outputs": [],
   "source": [
    "deployed_model_name = \"jukebox\"\n",
    "infer_endpoint = \"<paste-the-link-here>\"\n",
    "infer_url = f\"{infer_endpoint}/v2/models/{deployed_model_name}/infer\""
   ]
  },
  {
   "cell_type": "markdown",
   "id": "6ada129e",
   "metadata": {},
   "source": [
    "    NOTE: Make sure that you change the infer_endpoint with your own model inference endpoint deployed in the earlier step."
   ]
  },
  {
   "cell_type": "markdown",
   "id": "d94f9ece-e9cf-44e2-a8a2-73160186aee8",
   "metadata": {},
   "source": [
    "## 🫡 Request Function\n",
    "\n",
    "Build and submit the REST request. "
   ]
  },
  {
   "cell_type": "code",
   "execution_count": null,
   "id": "54b9386f-683a-4880-b780-c40bec3ab9f8",
   "metadata": {
    "tags": []
   },
   "outputs": [],
   "source": [
    "def rest_request(data):\n",
    "    json_data = {\n",
    "        \"inputs\": [ \n",
    "           {\n",
    "                \"name\": name,\n",
    "                \"shape\": [1, 1],\n",
    "                \"datatype\": \"FP32\",\n",
    "                \"data\": [data[name]]\n",
    "            }\n",
    "            for name in data.keys()\n",
    "        ]\n",
    "    }\n",
    "\n",
    "    response = requests.post(infer_url, json=json_data, verify=True)\n",
    "    response_dict = response.json()\n",
    "    return response_dict['outputs'][0]['data']"
   ]
  },
  {
   "cell_type": "code",
   "execution_count": null,
   "id": "5f871f12",
   "metadata": {
    "tags": []
   },
   "outputs": [],
   "source": [
    "#Load the scaler and label encoder\n",
    "with open('models/jukebox/1/artifacts/scaler.pkl', 'rb') as handle:\n",
    "    scaler = pickle.load(handle)\n",
    "    \n",
    "with open('models/jukebox/1/artifacts/label_encoder.pkl', 'rb') as handle:\n",
    "    label_encoder = pickle.load(handle)"
   ]
  },
  {
   "cell_type": "code",
   "execution_count": null,
   "id": "45ad16ac-23da-48bd-9796-f8e4cacae981",
   "metadata": {
    "tags": []
   },
   "outputs": [],
   "source": [
    "# We pick the properties of our favorite song\n",
    "song_properties = pd.read_parquet('../99-data_prep/song_properties.parquet')\n",
    "favorite_song = song_properties.loc[song_properties[\"name\"]==\"Not Like Us\"]\n",
    "favorite_song"
   ]
  },
  {
   "cell_type": "code",
   "execution_count": null,
   "id": "1d66e0f7-4d4e-4879-bdf1-36b712432fd9",
   "metadata": {
    "tags": []
   },
   "outputs": [],
   "source": [
    "data = favorite_song[['is_explicit', 'duration_ms', 'danceability', 'energy', 'key', 'loudness', 'mode', 'speechiness', 'acousticness', 'instrumentalness', 'liveness', 'valence', 'tempo']]\n",
    "scaled_data = pd.DataFrame(scaler.transform(data), columns=data.columns)\n",
    "prediction = rest_request(scaled_data.iloc[0].to_dict())"
   ]
  },
  {
   "cell_type": "markdown",
   "id": "81014f18-bd41-430f-b2cb-34ec791c15b8",
   "metadata": {
    "tags": []
   },
   "source": [
    "#### Let's visualize the chance that a given song would be popular in the countries!"
   ]
  },
  {
   "cell_type": "code",
   "execution_count": null,
   "id": "da502d40",
   "metadata": {
    "tags": []
   },
   "outputs": [],
   "source": [
    "plt.figure(figsize = (6, 8))\n",
    "plt.bar(x = range(len(prediction)),\n",
    "        height = prediction)\n",
    "plt.title('Prediction over countries', size = 12, weight = 'bold')\n",
    "plt.show()"
   ]
  },
  {
   "cell_type": "markdown",
   "id": "c89c563d",
   "metadata": {},
   "source": [
    "Since just country numbers don't do us much good, we take the most likely one and run it through the label encoder to get back the country code"
   ]
  },
  {
   "cell_type": "code",
   "execution_count": null,
   "id": "6452df5c",
   "metadata": {
    "tags": []
   },
   "outputs": [],
   "source": [
    "most_likely_country = np.argmax(prediction)\n",
    "country_code = label_encoder.inverse_transform([most_likely_country])\n",
    "print(f\"The most likely country is #{most_likely_country} which corresponds to the country code '{country_code[0]}'\")"
   ]
  },
  {
   "cell_type": "markdown",
   "id": "6388567a-a204-4e2b-8aa2-f27ed47f47e0",
   "metadata": {},
   "source": [
    "And that's the end of the inner loop of data science! \n",
    "\n",
    "We worked with different data sets, did exploratory analysis, and built & trained a model that can support our song release strategy! \n",
    "\n",
    "Now, we get new data every day, right? We need some kind of an automation to train the model with the new data... and that's where the `pipeline` concepts comes in! 🪄✨\n",
    "\n",
    "Head back to the instructions here to continue with the pipelines https://rhoai-mlops.github.io/lab-instructions/#/2-in-the-rhythm-of-data/README"
   ]
  }
 ],
 "metadata": {
  "kernelspec": {
   "display_name": "Python 3.9",
   "language": "python",
   "name": "python3"
  },
  "language_info": {
   "codemirror_mode": {
    "name": "ipython",
    "version": 3
   },
   "file_extension": ".py",
   "mimetype": "text/x-python",
   "name": "python",
   "nbconvert_exporter": "python",
   "pygments_lexer": "ipython3",
   "version": "3.9.16"
  }
 },
 "nbformat": 4,
 "nbformat_minor": 5
}
