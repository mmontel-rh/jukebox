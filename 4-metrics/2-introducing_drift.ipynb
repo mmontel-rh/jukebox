{
 "cells": [
  {
   "cell_type": "markdown",
   "id": "dcb74e33",
   "metadata": {},
   "source": [
    "# ⛵️ Introducing Drift\n",
    "\n",
    "![trusty-drift-meme.png](../images/trusty-drift-meme.png)\n",
    "\n",
    "Now that we have set up TrustyAI to detect drifts, let's introduce some and see what happens.  \n",
    "To do this, we will simply send a bunch of requests based on our testing dataset.  \n",
    "Because we only sent a small size of our training dataset to TrustyAI, there is a good chance that the testing dataset will look significantly different."
   ]
  },
  {
   "cell_type": "code",
   "execution_count": null,
   "id": "5f109c84-71e8-49ef-be79-0c276f9ef96a",
   "metadata": {
    "tags": []
   },
   "outputs": [],
   "source": [
    "import pandas as pd\n",
    "import matplotlib.pyplot as plt\n",
    "import pickle\n",
    "import numpy as np\n",
    "import requests\n",
    "from fetch_artifacts_from_registry import fetch_artifacts_from_registry"
   ]
  },
  {
   "cell_type": "code",
   "execution_count": null,
   "id": "968aecd8-43d0-485f-992b-aaceb645023c",
   "metadata": {
    "tags": []
   },
   "outputs": [],
   "source": [
    "# Disable some warning messages\n",
    "import urllib3\n",
    "urllib3.disable_warnings(urllib3.exceptions.InsecureRequestWarning)"
   ]
  },
  {
   "cell_type": "markdown",
   "id": "c0481ad6",
   "metadata": {},
   "source": [
    "Make sure to add your test models endpoint as `infer_endpoint` here."
   ]
  },
  {
   "cell_type": "code",
   "execution_count": null,
   "id": "9b3400ff",
   "metadata": {},
   "outputs": [],
   "source": [
    "infer_endpoint = \"ENTER-YOUR-INFERENCE-ENDPOINT\"\n",
    "\n",
    "deployed_model_name = \"jukebox\""
   ]
  },
  {
   "cell_type": "code",
   "execution_count": null,
   "id": "c9e89c53-6fbe-465f-9146-7123e19180fa",
   "metadata": {
    "tags": []
   },
   "outputs": [],
   "source": [
    "infer_url = f\"{infer_endpoint}/v2/models/{deployed_model_name}/infer\""
   ]
  },
  {
   "cell_type": "code",
   "execution_count": null,
   "id": "2fd3d31a-e7b1-4b85-81c6-2659f139c3da",
   "metadata": {
    "tags": []
   },
   "outputs": [],
   "source": [
    "def rest_request(data):\n",
    "    json_data = {\n",
    "        \"inputs\": [\n",
    "           {\n",
    "                \"name\": name,\n",
    "                \"shape\": [1, 1],\n",
    "                \"datatype\": \"FP32\",\n",
    "                \"data\": [data[name]]\n",
    "            }\n",
    "            for name in data.keys()\n",
    "        ]\n",
    "    }\n",
    "    response = requests.post(infer_url, json=json_data, verify=True)\n",
    "    response_dict = response.json()\n",
    "    return response_dict['outputs'][0]['data']\n"
   ]
  },
  {
   "cell_type": "code",
   "execution_count": null,
   "id": "8c521c75-4008-4d52-9e46-e6e1ab8e15a6",
   "metadata": {
    "tags": []
   },
   "outputs": [],
   "source": [
    "# Load the test data\n",
    "X_test = pd.read_pickle(\"preprocess-data/test_data.pkl\")[0][:500]"
   ]
  },
  {
   "cell_type": "markdown",
   "id": "607207f4-9588-43d4-9303-561093890902",
   "metadata": {},
   "source": [
    "We are sending 500 samples from our test dataset, so this may take a few minutes."
   ]
  },
  {
   "cell_type": "code",
   "execution_count": null,
   "id": "bf1c9a30-8fcf-4a6e-abea-21077516088a",
   "metadata": {
    "tags": []
   },
   "outputs": [],
   "source": [
    "# Sending predictions\n",
    "i=1\n",
    "for _, row in X_test.iterrows():\n",
    "    if i%100==0:\n",
    "        print(f\"{i} samples sent\")\n",
    "    prediction = rest_request(row.to_dict())\n",
    "    i+=1"
   ]
  },
  {
   "cell_type": "markdown",
   "id": "d5bbb1e1",
   "metadata": {},
   "source": [
    "And now it's time to go back to the instructions 🏃💨"
   ]
  }
 ],
 "metadata": {
  "kernelspec": {
   "display_name": "Python 3.11",
   "language": "python",
   "name": "python3"
  },
  "language_info": {
   "codemirror_mode": {
    "name": "ipython",
    "version": 3
   },
   "file_extension": ".py",
   "mimetype": "text/x-python",
   "name": "python",
   "nbconvert_exporter": "python",
   "pygments_lexer": "ipython3",
   "version": "3.11.7"
  }
 },
 "nbformat": 4,
 "nbformat_minor": 5
}
