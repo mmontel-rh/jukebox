{
 "cells": [
  {
   "cell_type": "markdown",
   "id": "536e4eaf",
   "metadata": {},
   "source": [
    "# 🪙 Counterfactuals\n",
    "\n",
    "Counterfactuals are great for seeing what input we would need to get some desired output.  \n",
    "In our case, it might be that we wanted to check what input we needed to make the song popular in Turkey.  \n",
    "We will be using TrustyAI to test exactly this, and see how much we would need to change."
   ]
  },
  {
   "cell_type": "code",
   "execution_count": null,
   "id": "3045f850-61b1-4b91-9ccc-33a9dd297040",
   "metadata": {
    "tags": []
   },
   "outputs": [],
   "source": [
    "!pip -q install \"onnx\" \"onnxruntime\" \"numpy==1.26.4\""
   ]
  },
  {
   "cell_type": "code",
   "execution_count": 2,
   "id": "c3ae84ab-cd63-4e14-b8b6-177076ccec25",
   "metadata": {
    "tags": []
   },
   "outputs": [],
   "source": [
    "import pickle\n",
    "import pandas as pd\n",
    "import numpy as np\n",
    "import onnxruntime as rt"
   ]
  },
  {
   "cell_type": "code",
   "execution_count": null,
   "id": "e8ef34cd",
   "metadata": {},
   "outputs": [],
   "source": [
    "import warnings\n",
    "\n",
    "# Ignore UserWarnings\n",
    "warnings.filterwarnings(\"ignore\", category=UserWarning)"
   ]
  },
  {
   "cell_type": "markdown",
   "id": "1564a70c",
   "metadata": {},
   "source": [
    "Let's start by choosing a country we want the song to be popular in.  \n",
    "We also pick what probability we need to see before we say that there's a good chance that our song will be popular in that country.  "
   ]
  },
  {
   "cell_type": "code",
   "execution_count": null,
   "id": "260c648d-30d2-488f-bf62-6e680d50fbaa",
   "metadata": {
    "tags": []
   },
   "outputs": [],
   "source": [
    "PRED_COUNTRY = \"TR\"\n",
    "POPULAR_THRESHOLD = 0.3"
   ]
  },
  {
   "cell_type": "markdown",
   "id": "c7d69369",
   "metadata": {},
   "source": [
    "We then load our model, as well as our pre-and-post-processing artifacts.  "
   ]
  },
  {
   "cell_type": "code",
   "execution_count": null,
   "id": "54bc87a7-7fd4-4251-b4f4-616500a6cbe7",
   "metadata": {
    "tags": []
   },
   "outputs": [],
   "source": [
    "onnx_session = rt.InferenceSession(\"convert-keras-to-onnx/onnx_model.onnx\", providers=rt.get_available_providers())\n",
    "onnx_input_name = onnx_session.get_inputs()[0].name\n",
    "onnx_output_name = onnx_session.get_outputs()[0].name\n",
    "\n",
    "with open('preprocess-data/scaler.pkl', 'rb') as handle:\n",
    "    scaler = pickle.load(handle)\n",
    "\n",
    "with open('preprocess-data/label_encoder.pkl', 'rb') as handle:\n",
    "    label_encoder = pickle.load(handle)"
   ]
  },
  {
   "cell_type": "markdown",
   "id": "06991274",
   "metadata": {},
   "source": [
    "### Data\n",
    "\n",
    "Then we pick a song we want to try to make popular in that country.  \n",
    "We will also process the song properties a bit, such as scaling them, just like what we did when training the model. This is to make sure they have an input that the model understands. "
   ]
  },
  {
   "cell_type": "code",
   "execution_count": null,
   "id": "70c53763-77c3-4060-9583-b375e0e3fbcd",
   "metadata": {
    "tags": []
   },
   "outputs": [],
   "source": [
    "song_properties = pd.read_parquet('../99-data_prep/song_properties.parquet')\n",
    "favorite_song = song_properties.loc[song_properties[\"name\"]==\"Not Like Us\"]\n",
    "favorite_song"
   ]
  },
  {
   "cell_type": "code",
   "execution_count": null,
   "id": "bb28dd31-4486-45ad-b8aa-a6702aac236e",
   "metadata": {
    "tags": []
   },
   "outputs": [],
   "source": [
    "song_properties = favorite_song[['is_explicit', 'duration_ms', 'danceability', 'energy', 'key', 'loudness', 'mode', 'speechiness', 'acousticness', 'instrumentalness', 'liveness', 'valence', 'tempo']]\n",
    "song_properties.T"
   ]
  },
  {
   "cell_type": "code",
   "execution_count": null,
   "id": "6e6cd27c-04d6-4217-8fa1-d23885bb4890",
   "metadata": {
    "tags": []
   },
   "outputs": [],
   "source": [
    "scaled_feature = scaler.transform(song_properties)[0]\n",
    "feature_values = {\n",
    "    \"is_explicit\": scaled_feature[0],\n",
    "    \"duration_ms\": scaled_feature[1],\n",
    "    \"danceability\": scaled_feature[2],\n",
    "    \"energy\": scaled_feature[3],\n",
    "    \"key\": scaled_feature[4],\n",
    "    \"loudness\": scaled_feature[5],\n",
    "    \"mode\": scaled_feature[6],\n",
    "    \"speechiness\": scaled_feature[7],\n",
    "    \"acousticness\": scaled_feature[8],\n",
    "    \"instrumentalness\": scaled_feature[9],\n",
    "    \"liveness\": scaled_feature[10],\n",
    "    \"valence\": scaled_feature[11],\n",
    "    \"tempo\": scaled_feature[12]\n",
    "}\n",
    "\n",
    "feature_df = pd.DataFrame([feature_values])\n",
    "feature_df.T"
   ]
  },
  {
   "cell_type": "markdown",
   "id": "4872fb0e",
   "metadata": {},
   "source": [
    "We also set what all the output names should be called, this will be the same as the country codes."
   ]
  },
  {
   "cell_type": "code",
   "execution_count": null,
   "id": "2003c45e-eefe-42a2-a65e-4b4126cd07ee",
   "metadata": {
    "tags": []
   },
   "outputs": [],
   "source": [
    "output_names = label_encoder.classes_\n",
    "output_names"
   ]
  },
  {
   "cell_type": "markdown",
   "id": "1798ee7e",
   "metadata": {},
   "source": [
    "### Counterfactual analysis\n",
    "\n",
    "Now that we have all of this set up, will set up our counterfactual analysis.  \n",
    "Here we need to first create a predict function (if your model inputs and outputs pandas dataframe by default, this is not needed).  \n",
    "Then we will create a TrustyAI \"Model\", this just wraps our model and will be used by TrustyAI to iterate on different input values.  \n",
    "Finally, we will define TrustyAI \"domains\" for each of our inputs. This tells TrustyAI what values the input is allowed to be between."
   ]
  },
  {
   "cell_type": "code",
   "execution_count": null,
   "id": "39041f8e-fce1-496b-9b75-c3aff9c1ae69",
   "metadata": {
    "tags": []
   },
   "outputs": [],
   "source": [
    "def pred(x):\n",
    "    x = x[0]\n",
    "    x_dict = {name: np.asarray([[x[i]]]).astype(np.float32) for i, name in enumerate(feature_df.columns)}\n",
    "    pred = onnx_session.run([onnx_output_name], x_dict)\n",
    "    pred = np.squeeze(pred)\n",
    "    pred = {output_names[i]: pred[i] for i in range(pred.shape[0])}\n",
    "    print(f\"Predicted probability is: {pred[PRED_COUNTRY]}\")\n",
    "    if pred[PRED_COUNTRY] >= POPULAR_THRESHOLD:\n",
    "        pred = {PRED_COUNTRY: True}\n",
    "    else:\n",
    "        pred = {PRED_COUNTRY: False}\n",
    "    return pd.DataFrame([pred])"
   ]
  },
  {
   "cell_type": "code",
   "execution_count": null,
   "id": "c5bc8322-9800-477d-a080-9d66ffb05def",
   "metadata": {
    "tags": []
   },
   "outputs": [],
   "source": [
    "pred(feature_df.to_numpy())"
   ]
  },
  {
   "cell_type": "code",
   "execution_count": 12,
   "id": "b7255731-3461-435d-b597-eaf9c7910490",
   "metadata": {
    "tags": []
   },
   "outputs": [],
   "source": [
    "from trustyai.model import Model\n",
    "\n",
    "model = Model(pred, output_names=[PRED_COUNTRY])"
   ]
  },
  {
   "cell_type": "code",
   "execution_count": 13,
   "id": "d6a41d78-8b38-4890-93c0-f3c781d6afb9",
   "metadata": {
    "tags": []
   },
   "outputs": [],
   "source": [
    "from trustyai.model.domain import feature_domain\n",
    "_domains = {\n",
    "        \"is_explicit\": (0.0, 1.0),\n",
    "        \"duration_ms\": (0.0, 1.0),\n",
    "        \"danceability\": (0.0, 1.0),\n",
    "        \"energy\": (0.0, 1.0),\n",
    "        \"key\": (0.0, 1.0),\n",
    "        \"loudness\": (0.0, 1.0),\n",
    "        \"mode\": (0.0, 1.0),\n",
    "        \"speechiness\": (0.0, 1.0),\n",
    "        \"acousticness\": (0.0, 1.0),\n",
    "        \"instrumentalness\": (0.0, 1.0),\n",
    "        \"liveness\": (0.0, 1.0),\n",
    "        \"valence\": (0.0, 1.0),\n",
    "        \"tempo\": (0.0, 1.0)\n",
    "}\n",
    "domains = {key: None for key  in feature_values.keys()}\n",
    "\n",
    "for key in  _domains.keys():\n",
    "        domains[key] = feature_domain(_domains[key])\n",
    "\n",
    "domains = list(domains.values())"
   ]
  },
  {
   "cell_type": "code",
   "execution_count": 14,
   "id": "cb599661-5233-423a-9eac-81c924de318e",
   "metadata": {
    "tags": []
   },
   "outputs": [],
   "source": [
    "from trustyai.model import output\n",
    "goal = [output(name=PRED_COUNTRY, dtype=\"bool\", value=True)]"
   ]
  },
  {
   "cell_type": "markdown",
   "id": "ad24c3dd",
   "metadata": {},
   "source": [
    "After we have the model, the domains, and the goal, we can start running through possible inputs to see which one can give us the output we want.  "
   ]
  },
  {
   "cell_type": "code",
   "execution_count": null,
   "id": "2fcabf73-097a-49e1-9f2b-e730a55eccc7",
   "metadata": {
    "tags": []
   },
   "outputs": [],
   "source": [
    "from trustyai.explainers import CounterfactualExplainer\n",
    "\n",
    "STEPS=50\n",
    "explainer = CounterfactualExplainer(steps=STEPS)\n",
    "explanation = explainer.explain(inputs=feature_df, goal=goal, model=model, feature_domains=domains)"
   ]
  },
  {
   "cell_type": "code",
   "execution_count": null,
   "id": "4dd64eb1-edfe-4fae-9e46-90528844187d",
   "metadata": {
    "tags": []
   },
   "outputs": [],
   "source": [
    "model(explanation.proposed_features_dataframe.to_numpy())"
   ]
  },
  {
   "cell_type": "markdown",
   "id": "a8754f1d",
   "metadata": {},
   "source": [
    "Now that it has finished running, we can see how much we would need to change our original input (remember the song we chose at the start) for the song to become popular in our country.  "
   ]
  },
  {
   "cell_type": "code",
   "execution_count": null,
   "id": "ba70f117-41f2-4c15-aa00-6913360fe9dc",
   "metadata": {
    "tags": []
   },
   "outputs": [],
   "source": [
    "explanation.as_dataframe()"
   ]
  },
  {
   "cell_type": "code",
   "execution_count": null,
   "id": "de097e7c-720f-4d02-9671-c0a0023c7c77",
   "metadata": {
    "tags": []
   },
   "outputs": [],
   "source": [
    "df = explanation.as_dataframe()\n",
    "df[df.difference != 0.0]"
   ]
  },
  {
   "cell_type": "code",
   "execution_count": null,
   "id": "ac1c0429-4ecd-484c-a2aa-85bf2a5be9b1",
   "metadata": {
    "tags": []
   },
   "outputs": [],
   "source": [
    "if not df[df.difference != 0.0].empty:\n",
    "    explanation.plot()\n",
    "else:\n",
    "    print(f\"The country {PRED_COUNTRY} did not reach the probability {POPULAR_THRESHOLD} in {STEPS} steps\")"
   ]
  }
 ],
 "metadata": {
  "kernelspec": {
   "display_name": "Python 3.11",
   "language": "python",
   "name": "python3"
  },
  "language_info": {
   "codemirror_mode": {
    "name": "ipython",
    "version": 3
   },
   "file_extension": ".py",
   "mimetype": "text/x-python",
   "name": "python",
   "nbconvert_exporter": "python",
   "pygments_lexer": "ipython3",
   "version": "3.11.7"
  }
 },
 "nbformat": 4,
 "nbformat_minor": 5
}
