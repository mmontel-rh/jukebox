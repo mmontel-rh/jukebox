{
 "cells": [
  {
   "cell_type": "markdown",
   "id": "d4fd8a2e-9ae7-4ad2-b08f-0221167b3710",
   "metadata": {},
   "source": [
    "# 👻 Before using TrustyAI\n",
    "\n",
    "We need to install some libraries and download some artifacts from our latest training run before we start using TrustyAI.  \n",
    "Follow this notebook to get all of that set up"
   ]
  },
  {
   "cell_type": "markdown",
   "id": "e21b126a-a4ac-40c3-8866-0753de5b3820",
   "metadata": {},
   "source": [
    "### Start by installing onnxruntime\n",
    "We will need this later when we produce data that will be sent to TrustyAI.\n",
    "\n",
    "If `pip` gives an Error, don't worry about it. Things will just run fine regardless."
   ]
  },
  {
   "cell_type": "code",
   "execution_count": null,
   "id": "70e74fc8-c889-46cf-a064-90be6c51614e",
   "metadata": {},
   "outputs": [],
   "source": [
    "!pip -q install model-registry==0.2.15"
   ]
  },
  {
   "cell_type": "code",
   "execution_count": null,
   "id": "99da0eec-8804-4a0b-b1e6-c0a17468e832",
   "metadata": {},
   "outputs": [],
   "source": [
    "from fetch_artifacts_from_registry import fetch_artifacts_from_registry"
   ]
  },
  {
   "cell_type": "markdown",
   "id": "065b3f02-ca96-434c-83c1-9d2752d2da9e",
   "metadata": {},
   "source": [
    "### Get your User token\n",
    "We need to provide our user token so that the workbench can send request to our TrustyAI Service.\n",
    "You can get the user token by:\n",
    "1. Going to the OpenShift Console\n",
    "2. Click the dropdown in the top right corner where your username is displayed\n",
    "3. Choose \"Copy login command\"\n",
    "4. Log in\n",
    "5. Select the part in the first code box after `token`, it should look something like `sha256~.....`"
   ]
  },
  {
   "cell_type": "markdown",
   "id": "7f2baf3d-db77-4eb7-ae04-ee1567a51a9f",
   "metadata": {},
   "source": [
    "### Get your Model Version\n",
    "\n",
    "We are going to fetch some artifacts from the model training pipeline we ran earlier, and we will do it by utilizing the Model Registry that keeps track of what pipeline was ran.  \n",
    "To do that, we need to point out what model version we are interested in.  \n",
    "Go to the Model Registry called *userX*-prod-registry and get the **first** model version, which is the git hash looking thing."
   ]
  },
  {
   "cell_type": "code",
   "execution_count": null,
   "id": "2e0cd327-5959-4764-ba8a-ff1895111bd0",
   "metadata": {},
   "outputs": [],
   "source": [
    "token = \"ENTER-YOUR-TOKEN\"\n",
    "model_version = \"ENTER-YOUR-MODEL-VERSION\"\n",
    "cluster_domain = \"ENTER-YOUR-CLUSTER-DOMAIN\"\n",
    "\n",
    "model_name = \"jukebox\""
   ]
  },
  {
   "cell_type": "code",
   "execution_count": null,
   "id": "355a0928-4cbf-4419-827d-821394606f64",
   "metadata": {},
   "outputs": [],
   "source": [
    "namespace_file_path =\\\n",
    "    '/var/run/secrets/kubernetes.io/serviceaccount/namespace'\n",
    "with open(namespace_file_path, 'r') as namespace_file:\n",
    "    current_namespace = namespace_file.read()\n",
    "username = current_namespace.split(\"-\")[0]"
   ]
  },
  {
   "cell_type": "code",
   "execution_count": null,
   "id": "e1fe1967-3604-430b-8b62-9491c75b5c1d",
   "metadata": {},
   "outputs": [],
   "source": [
    "artifacts = [\"preprocess-data/train_data.pkl\", \"preprocess-data/scaler.pkl\", \"preprocess-data/label_encoder.pkl\", \"convert-keras-to-onnx/onnx_model.onnx\", \"preprocess-data/test_data.pkl\"]\n",
    "pipeline_namespace = f\"{username}-toolings\"\n",
    "model_registry_url = f\"https://{username}-prod-registry-rest.{cluster_domain}\"\n",
    "author_name = current_namespace"
   ]
  },
  {
   "cell_type": "code",
   "execution_count": null,
   "id": "d45652e6-59c8-452e-af25-d8726ba2526b",
   "metadata": {},
   "outputs": [],
   "source": [
    "saved_files = fetch_artifacts_from_registry(\n",
    "    token,\n",
    "    artifacts,\n",
    "    pipeline_namespace,\n",
    "    model_registry_url,\n",
    "    model_name,\n",
    "    model_version,\n",
    "    author_name,\n",
    ")"
   ]
  },
  {
   "cell_type": "markdown",
   "id": "8bb716ac",
   "metadata": {},
   "source": [
    "Great!  \n",
    "You can now move on to [jukebox/4-metrics/4-counterfactuals.ipynb](4-counterfactuals.ipynb) to start analyzing the data 🔬"
   ]
  }
 ],
 "metadata": {
  "kernelspec": {
   "display_name": "Python 3.11",
   "language": "python",
   "name": "python3"
  },
  "language_info": {
   "codemirror_mode": {
    "name": "ipython",
    "version": 3
   },
   "file_extension": ".py",
   "mimetype": "text/x-python",
   "name": "python",
   "nbconvert_exporter": "python",
   "pygments_lexer": "ipython3",
   "version": "3.11.7"
  }
 },
 "nbformat": 4,
 "nbformat_minor": 5
}
